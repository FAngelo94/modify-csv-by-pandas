{
 "cells": [
  {
   "cell_type": "markdown",
   "metadata": {},
   "source": [
    "# Modifica CSV\n",
    "Alcuni metodi per modificare velocemente i dati in csv. Sotto l'intero codice esportato in un file .py"
   ]
  },
  {
   "cell_type": "code",
   "execution_count": 2,
   "metadata": {
    "collapsed": true
   },
   "outputs": [],
   "source": [
    "import pandas as pd\n",
    "import time\n",
    "from datetime import datetime"
   ]
  },
  {
   "cell_type": "code",
   "execution_count": 4,
   "metadata": {
    "collapsed": true
   },
   "outputs": [],
   "source": [
    "#cOSTANTI\n",
    "FILE_MONGO = \"..\\mongo.csv\""
   ]
  },
  {
   "cell_type": "code",
   "execution_count": 5,
   "metadata": {
    "collapsed": true
   },
   "outputs": [],
   "source": [
    "def rimuovi_NaN(data):\n",
    "    data = data[pd.notnull(data['objectId'])]\n",
    "    data = data[data['objectId']!=\"null\"]\n",
    "    return data\n",
    "\n",
    "def col_time(data):\n",
    "    timestamp = data['timestamp']\n",
    "    datacorrect = []\n",
    "    i = 0\n",
    "    while(i<len(timestamp)):\n",
    "        d = str(datetime.fromtimestamp(timestamp[i]/1e3))\n",
    "        datacorrect.append(d[0:len(d)-7])\n",
    "        i += 1\n",
    "    data['time'] = datacorrect\n",
    "    return data\n",
    "\n",
    "def col_eventNumber(data):\n",
    "    events = data['eventName']\n",
    "    eventNumber = []\n",
    "    i=0\n",
    "    while(i<len(events)):\n",
    "        if(events[i]==\"heating\"):\n",
    "            eventNumber.append(700)\n",
    "        if(events[i]==\"coffee\"):\n",
    "            eventNumber.append(1500)\n",
    "        if(events[i]==\"standby\"):\n",
    "            eventNumber.append(200)\n",
    "        if(events[i]==\"off\"):\n",
    "            eventNumber.append(0)\n",
    "        if(events[i]==\"on\"):\n",
    "            eventNumber.append(500)\n",
    "        i += 1\n",
    "    data['eventNumber'] = eventNumber\n",
    "    return data\n",
    "\n",
    "def crea_csv_nuovo(data,name):\n",
    "    data.to_csv(name)\n",
    "    \n",
    "def modifica_ore(data,ore,ms):\n",
    "    d = str(data['time'][0])\n",
    "    d = d[0:len(d)-ms]\n",
    "    time.mktime(datetime.strptime(d, \"%Y-%I-%d %H:%M:%S\").timetuple())\n",
    "    d=datetime.fromtimestamp(time.mktime(datetime.strptime(d, \"%Y-%I-%d %H:%M:%S\").timetuple())+(60*60*2))\n",
    "    data['time']=d\n",
    "    return data"
   ]
  },
  {
   "cell_type": "code",
   "execution_count": 6,
   "metadata": {},
   "outputs": [
    {
     "name": "stdout",
     "output_type": "stream",
     "text": [
      "                 objectId                          time     timestamp  \\\n",
      "6094  nespresso_jolmilano  2018-06-27T17:38:48.560+0200  1.530114e+12   \n",
      "6095  nespresso_jolmilano  2018-06-27T17:39:03.938+0200  1.530114e+12   \n",
      "6096  nespresso_jolmilano  2018-06-27T17:39:25.601+0200  1.530114e+12   \n",
      "6097  nespresso_jolmilano  2018-06-27T17:39:28.587+0200  1.530114e+12   \n",
      "6098  nespresso_jolmilano  2018-06-27T17:39:37.840+0200  1.530114e+12   \n",
      "\n",
      "     eventName  \n",
      "6094   heating  \n",
      "6095    coffee  \n",
      "6096   standby  \n",
      "6097    coffee  \n",
      "6098   standby  \n",
      "              objectId                          time     timestamp eventName\n",
      "0  nespresso_jolmilano  2018-06-27T17:38:48.560+0200  1.530114e+12   heating\n",
      "1  nespresso_jolmilano  2018-06-27T17:39:03.938+0200  1.530114e+12    coffee\n",
      "2  nespresso_jolmilano  2018-06-27T17:39:25.601+0200  1.530114e+12   standby\n",
      "                          objectId               time     timestamp eventName\n",
      "0  nespresso_jolmilano_groundtruth  2018-7-2T11:30:30  1.530524e+12    coffee\n",
      "1  nespresso_jolmilano_groundtruth  2018-7-2T11:30:38  1.530524e+12        on\n",
      "2  nespresso_jolmilano_groundtruth   2018-7-2T15:3:40  1.530537e+12        on\n"
     ]
    }
   ],
   "source": [
    "mongo = pd.read_csv(FILE_MONGO)\n",
    "mongo = rimuovi_NaN(mongo)\n",
    "print(mongo.head())\n",
    "nespresso   = mongo[mongo['objectId']==\"nespresso_jolmilano\"].reset_index(drop=True)\n",
    "print(nespresso.head(3))\n",
    "groundtruth = mongo[mongo['objectId']==\"nespresso_jolmilano_groundtruth\"].reset_index(drop=True)\n",
    "print(groundtruth.head(3))"
   ]
  },
  {
   "cell_type": "code",
   "execution_count": 7,
   "metadata": {},
   "outputs": [
    {
     "data": {
      "text/html": [
       "<div>\n",
       "<style>\n",
       "    .dataframe thead tr:only-child th {\n",
       "        text-align: right;\n",
       "    }\n",
       "\n",
       "    .dataframe thead th {\n",
       "        text-align: left;\n",
       "    }\n",
       "\n",
       "    .dataframe tbody tr th {\n",
       "        vertical-align: top;\n",
       "    }\n",
       "</style>\n",
       "<table border=\"1\" class=\"dataframe\">\n",
       "  <thead>\n",
       "    <tr style=\"text-align: right;\">\n",
       "      <th></th>\n",
       "      <th>objectId</th>\n",
       "      <th>time</th>\n",
       "      <th>timestamp</th>\n",
       "      <th>eventName</th>\n",
       "      <th>eventNumber</th>\n",
       "    </tr>\n",
       "  </thead>\n",
       "  <tbody>\n",
       "    <tr>\n",
       "      <th>0</th>\n",
       "      <td>nespresso_jolmilano</td>\n",
       "      <td>2018-06-27 17:38:48</td>\n",
       "      <td>1.530114e+12</td>\n",
       "      <td>heating</td>\n",
       "      <td>700</td>\n",
       "    </tr>\n",
       "    <tr>\n",
       "      <th>1</th>\n",
       "      <td>nespresso_jolmilano</td>\n",
       "      <td>2018-06-27 17:39:03</td>\n",
       "      <td>1.530114e+12</td>\n",
       "      <td>coffee</td>\n",
       "      <td>1500</td>\n",
       "    </tr>\n",
       "    <tr>\n",
       "      <th>2</th>\n",
       "      <td>nespresso_jolmilano</td>\n",
       "      <td>2018-06-27 17:39:25</td>\n",
       "      <td>1.530114e+12</td>\n",
       "      <td>standby</td>\n",
       "      <td>200</td>\n",
       "    </tr>\n",
       "    <tr>\n",
       "      <th>3</th>\n",
       "      <td>nespresso_jolmilano</td>\n",
       "      <td>2018-06-27 17:39:28</td>\n",
       "      <td>1.530114e+12</td>\n",
       "      <td>coffee</td>\n",
       "      <td>1500</td>\n",
       "    </tr>\n",
       "    <tr>\n",
       "      <th>4</th>\n",
       "      <td>nespresso_jolmilano</td>\n",
       "      <td>2018-06-27 17:39:37</td>\n",
       "      <td>1.530114e+12</td>\n",
       "      <td>standby</td>\n",
       "      <td>200</td>\n",
       "    </tr>\n",
       "  </tbody>\n",
       "</table>\n",
       "</div>"
      ],
      "text/plain": [
       "              objectId                 time     timestamp eventName  \\\n",
       "0  nespresso_jolmilano  2018-06-27 17:38:48  1.530114e+12   heating   \n",
       "1  nespresso_jolmilano  2018-06-27 17:39:03  1.530114e+12    coffee   \n",
       "2  nespresso_jolmilano  2018-06-27 17:39:25  1.530114e+12   standby   \n",
       "3  nespresso_jolmilano  2018-06-27 17:39:28  1.530114e+12    coffee   \n",
       "4  nespresso_jolmilano  2018-06-27 17:39:37  1.530114e+12   standby   \n",
       "\n",
       "   eventNumber  \n",
       "0          700  \n",
       "1         1500  \n",
       "2          200  \n",
       "3         1500  \n",
       "4          200  "
      ]
     },
     "execution_count": 7,
     "metadata": {},
     "output_type": "execute_result"
    }
   ],
   "source": [
    "nespresso = col_time(nespresso)\n",
    "nespresso = col_eventNumber(nespresso)\n",
    "nespresso.head()"
   ]
  },
  {
   "cell_type": "code",
   "execution_count": 8,
   "metadata": {},
   "outputs": [
    {
     "data": {
      "text/html": [
       "<div>\n",
       "<style>\n",
       "    .dataframe thead tr:only-child th {\n",
       "        text-align: right;\n",
       "    }\n",
       "\n",
       "    .dataframe thead th {\n",
       "        text-align: left;\n",
       "    }\n",
       "\n",
       "    .dataframe tbody tr th {\n",
       "        vertical-align: top;\n",
       "    }\n",
       "</style>\n",
       "<table border=\"1\" class=\"dataframe\">\n",
       "  <thead>\n",
       "    <tr style=\"text-align: right;\">\n",
       "      <th></th>\n",
       "      <th>objectId</th>\n",
       "      <th>time</th>\n",
       "      <th>timestamp</th>\n",
       "      <th>eventName</th>\n",
       "      <th>eventNumber</th>\n",
       "    </tr>\n",
       "  </thead>\n",
       "  <tbody>\n",
       "    <tr>\n",
       "      <th>0</th>\n",
       "      <td>nespresso_jolmilano_groundtruth</td>\n",
       "      <td>2018-07-02 11:30:30</td>\n",
       "      <td>1.530524e+12</td>\n",
       "      <td>coffee</td>\n",
       "      <td>1500</td>\n",
       "    </tr>\n",
       "    <tr>\n",
       "      <th>1</th>\n",
       "      <td>nespresso_jolmilano_groundtruth</td>\n",
       "      <td>2018-07-02 11:30:38</td>\n",
       "      <td>1.530524e+12</td>\n",
       "      <td>on</td>\n",
       "      <td>500</td>\n",
       "    </tr>\n",
       "    <tr>\n",
       "      <th>2</th>\n",
       "      <td>nespresso_jolmilano_groundtruth</td>\n",
       "      <td>2018-07-02 15:03:40</td>\n",
       "      <td>1.530537e+12</td>\n",
       "      <td>on</td>\n",
       "      <td>500</td>\n",
       "    </tr>\n",
       "    <tr>\n",
       "      <th>3</th>\n",
       "      <td>nespresso_jolmilano_groundtruth</td>\n",
       "      <td>2018-07-02 15:04:21</td>\n",
       "      <td>1.530537e+12</td>\n",
       "      <td>coffee</td>\n",
       "      <td>1500</td>\n",
       "    </tr>\n",
       "    <tr>\n",
       "      <th>4</th>\n",
       "      <td>nespresso_jolmilano_groundtruth</td>\n",
       "      <td>2018-07-02 17:31:52</td>\n",
       "      <td>1.530546e+12</td>\n",
       "      <td>on</td>\n",
       "      <td>500</td>\n",
       "    </tr>\n",
       "  </tbody>\n",
       "</table>\n",
       "</div>"
      ],
      "text/plain": [
       "                          objectId                 time     timestamp  \\\n",
       "0  nespresso_jolmilano_groundtruth  2018-07-02 11:30:30  1.530524e+12   \n",
       "1  nespresso_jolmilano_groundtruth  2018-07-02 11:30:38  1.530524e+12   \n",
       "2  nespresso_jolmilano_groundtruth  2018-07-02 15:03:40  1.530537e+12   \n",
       "3  nespresso_jolmilano_groundtruth  2018-07-02 15:04:21  1.530537e+12   \n",
       "4  nespresso_jolmilano_groundtruth  2018-07-02 17:31:52  1.530546e+12   \n",
       "\n",
       "  eventName  eventNumber  \n",
       "0    coffee         1500  \n",
       "1        on          500  \n",
       "2        on          500  \n",
       "3    coffee         1500  \n",
       "4        on          500  "
      ]
     },
     "execution_count": 8,
     "metadata": {},
     "output_type": "execute_result"
    }
   ],
   "source": [
    "groundtruth = col_time(groundtruth)\n",
    "groundtruth = col_eventNumber(groundtruth)\n",
    "groundtruth.head()"
   ]
  },
  {
   "cell_type": "code",
   "execution_count": 9,
   "metadata": {
    "collapsed": true
   },
   "outputs": [],
   "source": [
    "nespresso.to_csv(\"manu_rules.csv\")\n",
    "groundtruth.to_csv(\"groudtruth.csv\")"
   ]
  },
  {
   "cell_type": "markdown",
   "metadata": {},
   "source": [
    "# File su potenza\n",
    "Modifico il file di openhab che raccoglie dati sulla potenza"
   ]
  },
  {
   "cell_type": "code",
   "execution_count": 31,
   "metadata": {
    "collapsed": true
   },
   "outputs": [],
   "source": [
    "FILE_OPENHAB=\"../openhab_today_corrected.csv\""
   ]
  },
  {
   "cell_type": "code",
   "execution_count": 39,
   "metadata": {},
   "outputs": [
    {
     "data": {
      "text/html": [
       "<div>\n",
       "<style>\n",
       "    .dataframe thead tr:only-child th {\n",
       "        text-align: right;\n",
       "    }\n",
       "\n",
       "    .dataframe thead th {\n",
       "        text-align: left;\n",
       "    }\n",
       "\n",
       "    .dataframe tbody tr th {\n",
       "        vertical-align: top;\n",
       "    }\n",
       "</style>\n",
       "<table border=\"1\" class=\"dataframe\">\n",
       "  <thead>\n",
       "    <tr style=\"text-align: right;\">\n",
       "      <th></th>\n",
       "      <th>Unnamed: 0</th>\n",
       "      <th>time</th>\n",
       "      <th>value</th>\n",
       "    </tr>\n",
       "  </thead>\n",
       "  <tbody>\n",
       "    <tr>\n",
       "      <th>0</th>\n",
       "      <td>0</td>\n",
       "      <td>2018-07-03 00:00:00</td>\n",
       "      <td>0.000000</td>\n",
       "    </tr>\n",
       "    <tr>\n",
       "      <th>1</th>\n",
       "      <td>1</td>\n",
       "      <td>2018-07-03 00:07:37</td>\n",
       "      <td>0.292534</td>\n",
       "    </tr>\n",
       "    <tr>\n",
       "      <th>2</th>\n",
       "      <td>2</td>\n",
       "      <td>2018-07-03 00:07:40</td>\n",
       "      <td>0.000000</td>\n",
       "    </tr>\n",
       "    <tr>\n",
       "      <th>3</th>\n",
       "      <td>3</td>\n",
       "      <td>2018-07-03 00:15:31</td>\n",
       "      <td>0.278355</td>\n",
       "    </tr>\n",
       "    <tr>\n",
       "      <th>4</th>\n",
       "      <td>4</td>\n",
       "      <td>2018-07-03 00:15:34</td>\n",
       "      <td>0.000000</td>\n",
       "    </tr>\n",
       "  </tbody>\n",
       "</table>\n",
       "</div>"
      ],
      "text/plain": [
       "   Unnamed: 0                 time     value\n",
       "0           0  2018-07-03 00:00:00  0.000000\n",
       "1           1  2018-07-03 00:07:37  0.292534\n",
       "2           2  2018-07-03 00:07:40  0.000000\n",
       "3           3  2018-07-03 00:15:31  0.278355\n",
       "4           4  2018-07-03 00:15:34  0.000000"
      ]
     },
     "execution_count": 39,
     "metadata": {},
     "output_type": "execute_result"
    }
   ],
   "source": [
    "openhab = pd.read_csv(FILE_OPENHAB)\n",
    "openhab['time'] = openhab['time_correct']\n",
    "openhab.drop(axis=1,labels='time_correct',inplace=True)\n",
    "openhab.to_csv(\"power.csv\")\n",
    "openhab.head()"
   ]
  },
  {
   "cell_type": "markdown",
   "metadata": {},
   "source": [
    "# Creazione file .py \n",
    "Questo file sarà eseguibile da riga di comando con \"python nomefile.py\". (NB: si dovrà installare un compilatore python e la libreria pandas)"
   ]
  },
  {
   "cell_type": "code",
   "execution_count": 26,
   "metadata": {},
   "outputs": [
    {
     "name": "stdout",
     "output_type": "stream",
     "text": [
      "Overwriting modifica_csv.py\n"
     ]
    }
   ],
   "source": [
    "%%writefile modifica_csv.py\n",
    "\n",
    "import pandas as pd\n",
    "import time\n",
    "from datetime import datetime\n",
    "\n",
    "def rimuovi_NaN(data):\n",
    "    #Elimina le righe contenenti NaN e null nella colonna 'objectId'\n",
    "    #data: il dataframe che si vuole modificare\n",
    "    data = data[pd.notnull(data['objectId'])]\n",
    "    data = data[data['objectId']!=\"null\"]\n",
    "    return data\n",
    "\n",
    "def col_time(data):\n",
    "    #Legge la colonna \"timestamp\" e una nuova colonna con la data in formato\n",
    "    #\"%Y-%I-%d %H:%M:%S\"\n",
    "    #data: il dataframe che si vuole modificare\n",
    "    timestamp = data['timestamp']\n",
    "    datacorrect = []\n",
    "    i = 0\n",
    "    while(i<len(timestamp)):\n",
    "        d = str(datetime.fromtimestamp(timestamp[i]/1e3))\n",
    "        datacorrect.append(d[0:len(d)-7])\n",
    "        i += 1\n",
    "    data['time'] = datacorrect\n",
    "    return data\n",
    "\n",
    "def col_eventNumber(data):\n",
    "    #Sostituisce i nomi degli eventi sulla colonna \"eventName\" con dei valori numerici\n",
    "    #data: il dataframe che si vuole modificare\n",
    "    events = data['eventName']\n",
    "    eventNumber = []\n",
    "    i=0\n",
    "    while(i<len(events)):\n",
    "        if(events[i]==\"heating\"):\n",
    "            eventNumber.append(700)\n",
    "        if(events[i]==\"coffee\"):\n",
    "            eventNumber.append(1500)\n",
    "        if(events[i]==\"standby\"):\n",
    "            eventNumber.append(200)\n",
    "        if(events[i]==\"off\"):\n",
    "            eventNumber.append(0)\n",
    "        if(events[i]==\"on\"):\n",
    "            eventNumber.append(500)\n",
    "        i += 1\n",
    "    data['eventNumber'] = eventNumber\n",
    "    return data\n",
    "\n",
    "def crea_csv_nuovo(data,name):\n",
    "    #Crea un nuovo file csv\n",
    "    #data: il dataframe che si vuole modificare\n",
    "    #name: nome del nuovo file\n",
    "    data.to_csv(name+\".csv\")\n",
    "    \n",
    "def modifica_ore(data,ore,ms):\n",
    "    #data: il dataframe che si vuole modificare\n",
    "    #ore: quante ore si vogliono sommare alla data \n",
    "    #ms: numero di caratteri, nella data presente in tabella, presenti dopo i secondi\n",
    "    #(esempio: per \"2018-07-02 11:30:30.05\" ms=3 per eliminare \".05\")\n",
    "    d = str(data['time'][0])\n",
    "    d = d[0:len(d)-ms]\n",
    "    time.mktime(datetime.strptime(d, \"%Y-%I-%d %H:%M:%S\").timetuple())\n",
    "    d=datetime.fromtimestamp(time.mktime(datetime.strptime(d, \"%Y-%I-%d %H:%M:%S\").timetuple())+(60*60*2))\n",
    "    data['time']=d\n",
    "    return data\n",
    "\n",
    "#Codice di esempio che usa i metodi sopra (senza creare nuovi file):\n",
    "#cOSTANTI\n",
    "FILE_MONGO = \"mongo.csv\"\n",
    "\n",
    "mongo = pd.read_csv(FILE_MONGO)\n",
    "mongo = rimuovi_NaN(mongo)\n",
    "print(mongo.head())\n",
    "nespresso   = mongo[mongo['objectId']==\"nespresso_jolmilano\"].reset_index(drop=True)\n",
    "print(nespresso.head(3))\n",
    "groundtruth = mongo[mongo['objectId']==\"nespresso_jolmilano_groundtruth\"].reset_index(drop=True)\n",
    "print(groundtruth.head(3))\n",
    "\n",
    "nespresso = col_time(nespresso)\n",
    "nespresso = col_eventNumber(nespresso)\n",
    "nespresso.head()\n",
    "\n",
    "groundtruth = col_time(groundtruth)\n",
    "groundtruth = col_eventNumber(groundtruth)\n",
    "groundtruth.head()"
   ]
  },
  {
   "cell_type": "code",
   "execution_count": null,
   "metadata": {
    "collapsed": true
   },
   "outputs": [],
   "source": []
  }
 ],
 "metadata": {
  "kernelspec": {
   "display_name": "Python 3",
   "language": "python",
   "name": "python3"
  },
  "language_info": {
   "codemirror_mode": {
    "name": "ipython",
    "version": 3
   },
   "file_extension": ".py",
   "mimetype": "text/x-python",
   "name": "python",
   "nbconvert_exporter": "python",
   "pygments_lexer": "ipython3",
   "version": "3.6.2"
  }
 },
 "nbformat": 4,
 "nbformat_minor": 2
}
