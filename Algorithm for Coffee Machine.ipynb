{
 "cells": [
  {
   "cell_type": "markdown",
   "metadata": {},
   "source": [
    "# Algorithm for Coffee Machine\n",
    "In this page we used the libraries build in the other Jupyter pages to format and analyze the code fastly"
   ]
  },
  {
   "cell_type": "code",
   "execution_count": 1,
   "metadata": {},
   "outputs": [],
   "source": [
    "#import libraries\n",
    "from format_csv import *\n",
    "from analyze_data import *"
   ]
  },
  {
   "cell_type": "code",
   "execution_count": 9,
   "metadata": {},
   "outputs": [
    {
     "name": "stdout",
     "output_type": "stream",
     "text": [
      "number of coffee in groudtruth and power= 6\n",
      "number of on in groudtruth and power= 4\n",
      "-------------------- ENERGY FOR ON --------------------\n",
      "number of on in groudtruth and power= 4\n",
      "minValue= 863.1171029999998 maxValue= 1162.154084\n",
      "minAverage= 1012.6355934999999 maxAverage= 1135.9369155\n",
      "Final Av= 1097.5067119583332\n",
      "-------------------- ENERGY FOR COFFEE --------------------\n",
      "number of coffee in groudtruth and power= 6\n",
      "minValue= 0.0 maxValue= 1186.606488\n",
      "minAverage= 103.92701128571426 maxAverage= 401.1178537999999\n",
      "Final Av= 249.92306064761905\n",
      "-------------------- ENERGY AFTER COFFEE --------------------\n",
      "number of coffee in groudtruth and power= 6\n",
      "minValue= 0.335134 maxValue= 936.086228\n",
      "minAverage= 17.3329775 maxAverage= 357.23776359999994\n",
      "Final Av= 250.42654368888884\n",
      "-------------------- ENERGY AFTER ON --------------------\n",
      "number of on in groudtruth and power= 4\n",
      "minValue= 0.0 maxValue= 1160.235074\n",
      "minAverage= 284.99707020000005 maxAverage= 691.3151504999998\n",
      "Final Av= 538.4063631875\n",
      "-------------------- ENERGY BEFORE COFFEE --------------------\n",
      "number of coffee in groudtruth and power= 6\n",
      "minValue= 0.0 maxValue= 1135.533857\n",
      "minAverage= 0.3343692000000001 maxAverage= 665.3747876666667\n",
      "Final Av= 130.21680518611115\n",
      "-------------------- ENERGY BEFORE ON --------------------\n",
      "Not values found in the range\n"
     ]
    },
    {
     "data": {
      "image/png": "[encoded data removed]",
      "text/plain": [
       "<Figure size 1440x360 with 1 Axes>"
      ]
     },
     "metadata": {},
     "output_type": "display_data"
    }
   ],
   "source": [
    "power = pd.read_csv(\"power.csv\")\n",
    "groundtruth = pd.read_csv(\"../groundtruth_correct.csv\")\n",
    "sp1 = get_special_point(power,groundtruth,[7,7],\"coffee\",1000)\n",
    "sp2 = get_special_point(power,groundtruth,[7,7],\"on\",1000)\n",
    "print(\"-\"*20,\"ENERGY FOR ON\",\"-\"*20)\n",
    "average_energy(power,groundtruth,[-7,7],\"on\")\n",
    "print(\"-\"*20,\"ENERGY FOR COFFEE\",\"-\"*20)\n",
    "average_energy(power,groundtruth,[-7,7],\"coffee\")\n",
    "print(\"-\"*20,\"ENERGY AFTER COFFEE\",\"-\"*20)\n",
    "average_energy(power,groundtruth,[7,21],\"coffee\")\n",
    "print(\"-\"*20,\"ENERGY AFTER ON\",\"-\"*20)\n",
    "average_energy(power,groundtruth,[7,21],\"on\")\n",
    "print(\"-\"*20,\"ENERGY BEFORE COFFEE\",\"-\"*20)\n",
    "average_energy(power,groundtruth,[-21,-7],\"coffee\")\n",
    "print(\"-\"*20,\"ENERGY BEFORE ON\",\"-\"*20)\n",
    "average_energy(power,groundtruth,[-21,-7],\"on\")\n",
    "\n",
    "draw_power_graphics(power,[sp1,sp2],band=2500)\n",
    "#draw_around_event(power,groundtruth,[10,10],\"coffee\")"
   ]
  },
  {
   "cell_type": "markdown",
   "metadata": {},
   "source": [
    "## Format the data\n",
    "First we format the data imported from mongo db"
   ]
  },
  {
   "cell_type": "code",
   "execution_count": 26,
   "metadata": {},
   "outputs": [
    {
     "name": "stdout",
     "output_type": "stream",
     "text": [
      "                          objectId                 time     timestamp  \\\n",
      "0  nespresso_jolmilano_groundtruth  2018-07-02 11:30:30  1.530524e+12   \n",
      "\n",
      "  eventName  eventNumber  \n",
      "0    coffee         1500  \n"
     ]
    }
   ],
   "source": [
    "FILE_MONGO = \"..\\mongo.csv\"\n",
    "\n",
    "mongo = pd.read_csv(FILE_MONGO)\n",
    "mongo = remove_NaN(mongo)\n",
    "groundtruth = mongo[mongo['objectId']==\"nespresso_jolmilano_groundtruth\"].reset_index(drop=True)\n",
    "\n",
    "groundtruth = col_time(groundtruth)\n",
    "groundtruth = col_eventNumber(groundtruth)\n",
    "print(groundtruth.head(1))\n",
    "groundtruth.to_csv(\"groudtruth.csv\")"
   ]
  },
  {
   "cell_type": "markdown",
   "metadata": {},
   "source": [
    "Then we format the data of power and we must add 2 hours because DB in openhab use a different time zone"
   ]
  },
  {
   "cell_type": "code",
   "execution_count": 2,
   "metadata": {},
   "outputs": [
    {
     "data": {
      "text/html": [
       "<div>\n",
       "<style>\n",
       "    .dataframe thead tr:only-child th {\n",
       "        text-align: right;\n",
       "    }\n",
       "\n",
       "    .dataframe thead th {\n",
       "        text-align: left;\n",
       "    }\n",
       "\n",
       "    .dataframe tbody tr th {\n",
       "        vertical-align: top;\n",
       "    }\n",
       "</style>\n",
       "<table border=\"1\" class=\"dataframe\">\n",
       "  <thead>\n",
       "    <tr style=\"text-align: right;\">\n",
       "      <th></th>\n",
       "      <th>time</th>\n",
       "      <th>value</th>\n",
       "    </tr>\n",
       "  </thead>\n",
       "  <tbody>\n",
       "    <tr>\n",
       "      <th>0</th>\n",
       "      <td>2018-07-03 02:00:00.0</td>\n",
       "      <td>0.000000</td>\n",
       "    </tr>\n",
       "    <tr>\n",
       "      <th>1</th>\n",
       "      <td>2018-07-03 02:07:37.0</td>\n",
       "      <td>0.292534</td>\n",
       "    </tr>\n",
       "    <tr>\n",
       "      <th>2</th>\n",
       "      <td>2018-07-03 02:07:40.0</td>\n",
       "      <td>0.000000</td>\n",
       "    </tr>\n",
       "    <tr>\n",
       "      <th>3</th>\n",
       "      <td>2018-07-03 02:15:31.0</td>\n",
       "      <td>0.278355</td>\n",
       "    </tr>\n",
       "    <tr>\n",
       "      <th>4</th>\n",
       "      <td>2018-07-03 02:15:34.0</td>\n",
       "      <td>0.000000</td>\n",
       "    </tr>\n",
       "  </tbody>\n",
       "</table>\n",
       "</div>"
      ],
      "text/plain": [
       "                    time     value\n",
       "0  2018-07-03 02:00:00.0  0.000000\n",
       "1  2018-07-03 02:07:37.0  0.292534\n",
       "2  2018-07-03 02:07:40.0  0.000000\n",
       "3  2018-07-03 02:15:31.0  0.278355\n",
       "4  2018-07-03 02:15:34.0  0.000000"
      ]
     },
     "execution_count": 2,
     "metadata": {},
     "output_type": "execute_result"
    }
   ],
   "source": [
    "FILE_OPENHAB = \"../03-07-2018.csv\"\n",
    "openhab = pd.read_csv(FILE_OPENHAB)#Livelli di potenza\n",
    "openhab.head()"
   ]
  },
  {
   "cell_type": "code",
   "execution_count": 3,
   "metadata": {},
   "outputs": [
    {
     "data": {
      "text/html": [
       "<div>\n",
       "<style>\n",
       "    .dataframe thead tr:only-child th {\n",
       "        text-align: right;\n",
       "    }\n",
       "\n",
       "    .dataframe thead th {\n",
       "        text-align: left;\n",
       "    }\n",
       "\n",
       "    .dataframe tbody tr th {\n",
       "        vertical-align: top;\n",
       "    }\n",
       "</style>\n",
       "<table border=\"1\" class=\"dataframe\">\n",
       "  <thead>\n",
       "    <tr style=\"text-align: right;\">\n",
       "      <th></th>\n",
       "      <th>time</th>\n",
       "      <th>value</th>\n",
       "    </tr>\n",
       "  </thead>\n",
       "  <tbody>\n",
       "    <tr>\n",
       "      <th>0</th>\n",
       "      <td>2018-07-03 00:00:00</td>\n",
       "      <td>0.000000</td>\n",
       "    </tr>\n",
       "    <tr>\n",
       "      <th>1</th>\n",
       "      <td>2018-07-03 00:07:37</td>\n",
       "      <td>0.292534</td>\n",
       "    </tr>\n",
       "    <tr>\n",
       "      <th>2</th>\n",
       "      <td>2018-07-03 00:07:40</td>\n",
       "      <td>0.000000</td>\n",
       "    </tr>\n",
       "  </tbody>\n",
       "</table>\n",
       "</div>"
      ],
      "text/plain": [
       "                 time     value\n",
       "0 2018-07-03 00:00:00  0.000000\n",
       "1 2018-07-03 00:07:37  0.292534\n",
       "2 2018-07-03 00:07:40  0.000000"
      ]
     },
     "execution_count": 3,
     "metadata": {},
     "output_type": "execute_result"
    }
   ],
   "source": [
    "FILE_OPENHAB = \"../03-07-2018.csv\"\n",
    "openhab = pd.read_csv(FILE_OPENHAB)#Livelli di potenza\n",
    "modify_hour(openhab,-2,2)\n",
    "openhab.to_csv(\"power.csv\")\n",
    "openhab.head(3)"
   ]
  },
  {
   "cell_type": "markdown",
   "metadata": {},
   "source": [
    "## Analyze data\n",
    "Now we build the graphics and calculate the average of energy for the different events"
   ]
  },
  {
   "cell_type": "code",
   "execution_count": 31,
   "metadata": {},
   "outputs": [
    {
     "name": "stdout",
     "output_type": "stream",
     "text": [
      "number of coffee in groudtruth and power= 0\n",
      "number of on in groudtruth and power= 0\n"
     ]
    },
    {
     "data": {
      "image/png": "[encoded data removed]",
      "text/plain": [
       "<Figure size 1440x360 with 1 Axes>"
      ]
     },
     "metadata": {},
     "output_type": "display_data"
    },
    {
     "data": {
      "image/png": "[encoded data removed]",
      "text/plain": [
       "<Figure size 1440x360 with 1 Axes>"
      ]
     },
     "metadata": {},
     "output_type": "display_data"
    },
    {
     "name": "stdout",
     "output_type": "stream",
     "text": [
      "Not values found in the range\n",
      "Not values found in the range\n",
      "Not values found in the range\n"
     ]
    }
   ],
   "source": [
    "power = pd.read_csv(\"power.csv\")\n",
    "groundtruth = pd.read_csv(\"groudtruth.csv\")\n",
    "sp = get_special_point(power,groundtruth,[10,10],\"coffee\",1000)\n",
    "sp_2 = get_special_point(power,groundtruth,[10,10],\"on\",1000)\n",
    "draw_power_graphics(power,[sp,sp_2],band=2500)\n",
    "#draw_around_event(power,groundtruth,[10,10],\"coffee\")\n",
    "average_energy(power,groundtruth,[7,8],\"coffee\")\n",
    "average_energy(power,groundtruth,[10,10],\"on\")\n",
    "average_energy(power,groundtruth,[-10,20],\"on\")"
   ]
  },
  {
   "cell_type": "code",
   "execution_count": 27,
   "metadata": {
    "scrolled": true
   },
   "outputs": [
    {
     "data": {
      "text/plain": [
       "'[863.1171029999997,1162.154084,1160.235074,1159.6837050000001,445.041178,0.300645,0.300645,0.308558,0.329397,0.397848,248.55330800000002,188.065527,29.082032,0.330782,0.0,0.307239,0.288907,0.296095,0.0,0.278685,0.0,0.313438,0.32333,0.381098,0.362699,0.28521399999999997,0.31950500000000004,0.295501,0.0,0.28007,1116.5534,689.693158,876.9397759999997,38.626501,224.051114,195.279619,368.360252,8.575994999999999,0.0,0.415522,0.687876,0.275124,0.320758,0.0,0.328342,0.32873800000000003,0.273146,0.0,125.43927,10.651427,0.0,0.319967,0.31634,0.32768200000000003,0.0,0.284752,0.28462,0.291281,82.567538,7.093610000000001,194.247178,0.0,0.3718,0.30295300000000003,0.0,0.31119600000000003,0.297084,0.309811,0.0,0.288313,0.335926,0.30295300000000003,0.37456999999999996,0.0,0.409455,0.380307,0.327419,0.327419,0.348455,0.38459299999999996,0.38459299999999996,0.28580700000000003,0.32642899999999997,733.0269040000003,34.330821,0.335134,0.31878,0.31878,0.27176100000000003,0.27176100000000003,0.0,0.0,0.33065,24.917847000000002,32.95131,32.10345,32.10345,32.10345,32.959685,33.083069,81.27751500000002,0.360523,0.335266,0.301106,9.865688,32.861426,32.858129,247.82415,23.261959,456.23691799999995,184.749399,184.749399,1162.340379,974.3402699999999,468.338417,1196.251721,715.307718,724.518173,346.847427,0.285675,0.27453099999999997,247.247986,2.157798,0.336387,81.887245,0.362502,0.334739,0.334739,0.334739,0.373053,0.3768780000000001,0.316538,725.4183929999997,165.88988600000005,230.557283,264.538989,526.411675,293.252255,239.56475899999998,239.56475899999998,0.285082,0.0,0.549259,0.549259,0.549259,0.298798,0.298798,0.37879,0.0,0.304272,0.0,80.59564,0.0,0.333683,0.0,0.32056,0.36632600000000004,0.0,0.30446999999999996,0.0,57.785802000000004,47.472476,0.39019899999999996,0.291544,0.41084,0.293325,0.0,0.34139899999999995,0.30328299999999997,0.304799,0.0,0.38465900000000003,0.0,0.35544499999999996,222.988867,0.29833699999999996,0.31845,0.342652,0.313834,0.31040500000000004,0.312185,0.345686,81.96644599999998,30.281841999999997,0.299392,0.322407,0.0,0.339091,0.0,0.28910399999999997,0.0,0.353269,0.311064,0.284686,0.335992,0.345026,0.270574,0.334277,0.351159,0.0,0.377933,93.186322,0.466959,0.0,0.311922,0.314361,0.0,0.405036,0.36533699999999997,0.0,0.329331,0.0,0.304008,0.35228000000000004,0.0,0.278619,0.327419,0.284224,0.347598,0.330452,80.90162600000002,153.405705,57.750257,0.33256199999999997,0.389737,0.35320300000000004,0.422908,0.295831,0.290489,0.0,0.300777,0.0,0.285477,0.326957,0.0,0.308492,0.36243600000000004,0.0,0.31587800000000005,0.0,0.41426899999999994,0.317725,0.3352,0.354192,0.30842600000000003,0.285346,0.302557,236.14239300000003,0.271959,0.28026799999999996,0.317923,0.279542,0.383011,0.0,0.45541899999999996,0.28936799999999996,0.35320300000000004,0.328342,0.0,0.292534,0.376548,0.38004299999999996,0.0,82.530872,0.323396,0.0,0.311526,7.3124160000000025,0.358809,0.0,0.297084,0.0,0.283631,0.33724499999999996,0.294248,0.0,0.326891,0.332694,0.0,0.37951599999999996,0.0,0.286269,172.082154,1.110058,0.27987199999999995,0.28732399999999997,0.0,0.339619,0.0,0.327353,0.0,0.32873800000000003,0.30941599999999997,0.0,0.32715500000000003,0.361249,1.150219,76.665033,132.203021,0.289236,0.0,0.37601999999999997,0.299854,0.0,0.3383,0.271827,0.331705,0.30044699999999996,0.29530300000000004,0.32253899999999996,82.808766,0.419412,0.285609,0.366722,0.0,0.29523699999999997,0.38433,0.32464899999999997,82.797225,0.32959499999999997,0.28277399999999997,0.285873,0.311922,0.314625,0.312581,0.380703,235.16627000000003,0.0,0.331705,0.27169499999999996,0.348719,0.30446999999999996,0.304865,0.317065,0.338629,0.341663,0.311262,0.41532399999999997,0.34370700000000004,0.0,0.33012199999999997,0.3108,0.299788,0.291215,223.657025,3.139526,0.33797,0.0,0.322209,0.0,0.370151,0.29405,0.331309,0.36480999999999997,0.0,0.34008,0.0,0.326957,0.342124,0.318912,82.312725,0.0,0.281916,0.31495500000000004,0.310339,0.276509,0.372327,0.277432,0.331309,15.559872,156.02366999999995,0.303481,0.28976399999999997,0.307437,0.433525,0.35261,0.297545,0.293259,0.324847,0.302162,0.313702,0.301964,0.346147,0.0,0.296688,0.333024,0.0,0.329793,0.276905,0.277762,0.305129,0.326232,0.400025,0.0,0.290423,78.726287,212.84317400000003,0.371998,0.318186,0.0,0.32708899999999996,0.365469,0.296292,0.309745,0.310339,0.31950500000000004,0.0,0.351093,0.294578,0.280663,0.299854,0.34139899999999995,0.345158,0.313438,0.373317,0.419083,0.321154,0.0,145.228811,0.32464899999999997,0.295105,0.41611499999999996,0.275783,0.327617,0.0,0.285346,0.366656,0.359006,0.0,0.344762,0.336519,0.34680700000000003,0.0,0.341333,77.42274499999998,0.308756,0.0,0.275783,0.0,0.370481,0.273014,0.370481,0.0,22.491652,0.333683,0.33381500000000003,0.325374,0.33065,0.0,0.278355,0.274465,0.43372299999999997,0.0,0.32544,0.0,0.324517,0.0,221.171677,65.106791,0.316867,0.303546,0.0,0.27571799999999996,0.350829,0.35749000000000003,0.0,0.324781,0.0,0.390462,0.30136999999999997,0.312977,0.35129099999999996,0.330056,0.304602,0.288049,0.302557,0.0,0.27519,0.357754,0.313768,0.28218000000000004,0.330716,0.0,42.306977,0.0,0.296095,0.299458,0.274267,0.344499,0.382417,0.32405500000000004,0.33381500000000003,0.3108,0.30084299999999997,0.289566,0.0,242.82028300000002,0.0,0.380768,0.0,0.282312,0.32471500000000003,0.28442199999999995,0.344499,0.27308000000000004,0.318912,0.273739,0.338893,0.31851599999999997,0.0,0.28079499999999996,0.303085,0.319176,185.37020900000002,112.05216599999999,0.33322199999999996,0.0,0.343048,0.329133,0.0,0.32642899999999997,0.0,0.393232,0.397255,0.311922,0.355775,0.317659,0.301568,0.282114,0.297545,0.0,0.384791,0.358875,0.340806,0.300117,0.592915,216.252483,0.395804,0.32821,0.3596,0.0,0.29161,0.373844,0.316076,0.351621,0.363689,0.382285,0.291017,0.283037,0.0,0.330782,0.29438000000000003,0.275981,0.0,0.274992,0.37456999999999996,0.27670700000000004,82.975542,1.569763,239.84984,0.314823,0.332365,0.342454,0.0,0.370679,0.0,0.32155,0.326364,0.377999,0.30948200000000003,0.312515,0.0,0.2926,0.0,0.387033,0.304338,0.0,0.30935,0.338102,0.28495,0.334343,0.347928,0.28007,0.275586,215.093032,59.809928,0.0,0.287522,0.285675,0.373712,0.0,0.317725,0.0,0.313438,0.27387100000000003,0.0,0.337376,0.28429,0.30288699999999996,32.342634000000004,62.936991000000006,0.344894,0.33777199999999996,0.30044699999999996,0.31950500000000004,0.334079,0.331375,0.0,0.282972,0.0,0.296095,0.36177600000000004,0.290621,0.0,0.289236,0.314823,0.385648,0.33117800000000003,0.0,0.272948,13.897521,163.581271,0.338893,0.36171,0.0,0.336783,0.0,0.321418,0.295105,0.281455,0.342586,0.28910399999999997,0.281323,0.0,0.381296,0.30090900000000004,0.0,0.321484,0.346873,0.372525,0.309613,0.34278400000000003,0.310734,0.34575100000000003,0.32445100000000004,0.299656,0.28178400000000003,0.348587,0.352412,82.9793,0.532047,82.855719,0.38822,0.0,0.300051,0.277102,0.0,0.297545,0.290819,0.295699,0.416049,0.0,0.355248,0.0,0.334936,0.292006,0.315021,0.27050799999999997,0.342124,62.571126,236.60447200000002,0.0,0.285016,0.0,0.301106,0.27763000000000004,0.290028,0.0,0.30717300000000003,0.343971,0.29715,0.28791700000000003,0.409718,0.360128,0.302491,0.282378,0.29161,0.35221399999999997,0.314098,0.292863,0.29312699999999997,0.281323,81.36753,0.345488,0.0,0.278685,0.0,0.327946,0.0,0.380768,0.290687,0.34608099999999997,0.367052,0.0,0.29016,0.0,'"
      ]
     },
     "execution_count": 27,
     "metadata": {},
     "output_type": "execute_result"
    }
   ],
   "source": [
    "values = power[(power['time']>'2018-07-03 09:13:00')&(power['time']<'2018-07-03 10:00:00')]['value']\n",
    "s=\"[\"\n",
    "for i in values:\n",
    "    s += (str(i)+\",\")\n",
    "#s[len(s)-1]=\"]\"\n",
    "s"
   ]
  },
  {
   "cell_type": "markdown",
   "metadata": {
    "collapsed": true
   },
   "source": [
    "# File in Python"
   ]
  },
  {
   "cell_type": "code",
   "execution_count": 10,
   "metadata": {},
   "outputs": [
    {
     "name": "stdout",
     "output_type": "stream",
     "text": [
      "Overwriting algorithm_coffe_machine.py\n"
     ]
    }
   ],
   "source": [
    "%%writefile algorithm_coffe_machine.py\n",
    "\n",
    "#import libraries\n",
    "from format_csv import *\n",
    "from analyze_data import *\n",
    "\n",
    "power = pd.read_csv(\"power.csv\")\n",
    "groundtruth = pd.read_csv(\"../groundtruth_correct.csv\")\n",
    "sp1 = get_special_point(power,groundtruth,[7,7],\"coffee\",1000)\n",
    "sp2 = get_special_point(power,groundtruth,[7,7],\"on\",1000)\n",
    "print(\"-\"*20,\"ENERGY FOR ON\",\"-\"*20)\n",
    "average_energy(power,groundtruth,[-7,7],\"on\")\n",
    "print(\"-\"*20,\"ENERGY FOR COFFEE\",\"-\"*20)\n",
    "average_energy(power,groundtruth,[-7,7],\"coffee\")\n",
    "print(\"-\"*20,\"ENERGY AFTER COFFEE\",\"-\"*20)\n",
    "average_energy(power,groundtruth,[7,21],\"coffee\")\n",
    "print(\"-\"*20,\"ENERGY AFTER ON\",\"-\"*20)\n",
    "average_energy(power,groundtruth,[7,21],\"on\")\n",
    "print(\"-\"*20,\"ENERGY BEFORE COFFEE\",\"-\"*20)\n",
    "average_energy(power,groundtruth,[-21,-7],\"coffee\")\n",
    "print(\"-\"*20,\"ENERGY BEFORE ON\",\"-\"*20)\n",
    "average_energy(power,groundtruth,[-21,-7],\"on\")\n",
    "\n",
    "draw_power_graphics(power,[sp1,sp2],band=2500)\n",
    "#draw_around_event(power,groundtruth,[10,10],\"coffee\")"
   ]
  },
  {
   "cell_type": "code",
   "execution_count": null,
   "metadata": {
    "collapsed": true
   },
   "outputs": [],
   "source": []
  }
 ],
 "metadata": {
  "kernelspec": {
   "display_name": "Python 3",
   "language": "python",
   "name": "python3"
  },
  "language_info": {
   "codemirror_mode": {
    "name": "ipython",
    "version": 3
   },
   "file_extension": ".py",
   "mimetype": "text/x-python",
   "name": "python",
   "nbconvert_exporter": "python",
   "pygments_lexer": "ipython3",
   "version": "3.6.2"
  }
 },
 "nbformat": 4,
 "nbformat_minor": 2
}
