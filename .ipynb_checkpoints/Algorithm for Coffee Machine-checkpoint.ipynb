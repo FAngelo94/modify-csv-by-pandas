{
 "cells": [
  {
   "cell_type": "markdown",
   "metadata": {},
   "source": [
    "# Algorithm for Coffee Machine\n",
    "In this page we used the libraries build in the other Jupyter pages to format and analyze the code fastly"
   ]
  },
  {
   "cell_type": "code",
   "execution_count": 1,
   "metadata": {
    "collapsed": true
   },
   "outputs": [],
   "source": [
    "#import libraries\n",
    "from format_csv import *\n",
    "from analyze_data import *"
   ]
  },
  {
   "cell_type": "markdown",
   "metadata": {},
   "source": [
    "## Format the data\n",
    "First we format the data imported from mongo db"
   ]
  },
  {
   "cell_type": "code",
   "execution_count": 2,
   "metadata": {},
   "outputs": [
    {
     "name": "stdout",
     "output_type": "stream",
     "text": [
      "                          objectId                 time     timestamp  \\\n",
      "0  nespresso_jolmilano_groundtruth  2018-07-02 11:30:30  1.530524e+12   \n",
      "\n",
      "  eventName  eventNumber  \n",
      "0    coffee         1500  \n"
     ]
    }
   ],
   "source": [
    "FILE_MONGO = \"..\\mongo.csv\"\n",
    "\n",
    "mongo = pd.read_csv(FILE_MONGO)\n",
    "mongo = remove_NaN(mongo)\n",
    "groundtruth = mongo[mongo['objectId']==\"nespresso_jolmilano_groundtruth\"].reset_index(drop=True)\n",
    "\n",
    "groundtruth = col_time(groundtruth)\n",
    "groundtruth = col_eventNumber(groundtruth)\n",
    "print(groundtruth.head(1))\n",
    "groundtruth.to_csv(\"groudtruth.csv\")"
   ]
  },
  {
   "cell_type": "markdown",
   "metadata": {},
   "source": [
    "Then we format the data of power and we must add 2 hours because DB in openhab use a different time zone"
   ]
  },
  {
   "cell_type": "code",
   "execution_count": 3,
   "metadata": {
    "collapsed": true
   },
   "outputs": [],
   "source": [
    "FILE_OPENHAB = \"..\\openhab.csv\"\n",
    "openhab = pd.read_csv(FILE_OPENHAB)#Livelli di potenza\n",
    "modify_hour(openhab,2,2)\n",
    "openhab.head(3)\n",
    "openhab.to_csv(\"power\")"
   ]
  },
  {
   "cell_type": "markdown",
   "metadata": {},
   "source": [
    "## Analyze data\n",
    "Now we build the graphics and calculate the average of energy for the different events"
   ]
  },
  {
   "cell_type": "code",
   "execution_count": 4,
   "metadata": {},
   "outputs": [
    {
     "name": "stdout",
     "output_type": "stream",
     "text": [
      "number of coffee in groudtruth and power= 6\n",
      "number of on in groudtruth and power= 4\n"
     ]
    },
    {
     "data": {
      "image/png": "[encoded data removed]",
      "text/plain": [
       "<Figure size 1440x360 with 1 Axes>"
      ]
     },
     "metadata": {},
     "output_type": "display_data"
    },
    {
     "name": "stdout",
     "output_type": "stream",
     "text": [
      "number of coffee in groudtruth and power= 6\n",
      "Final Av= 249.92306064761905\n",
      "number of on in groudtruth and power= 4\n",
      "Final Av= 1104.3113119375\n",
      "number of on in groudtruth and power= 4\n",
      "Final Av= 581.4398616958333\n"
     ]
    },
    {
     "data": {
      "text/plain": [
       "581.4398616958333"
      ]
     },
     "execution_count": 4,
     "metadata": {},
     "output_type": "execute_result"
    }
   ],
   "source": [
    "power = pd.read_csv(\"power.csv\")\n",
    "groundtruth = pd.read_csv(\"groudtruth.csv\")\n",
    "sp = get_special_point(power,groundtruth,[10,10],\"coffee\",1000)\n",
    "sp_2 = get_special_point(power,groundtruth,[10,10],\"on\",1000)\n",
    "draw_power_graphics(power,[sp,sp_2],band=2500)\n",
    "#draw_around_event(power,groundtruth,[10,10],\"coffee\")\n",
    "average_energy(power,groundtruth,[7,8],\"coffee\")\n",
    "average_energy(power,groundtruth,[10,10],\"on\")\n",
    "average_energy(power,groundtruth,[-10,20],\"on\")"
   ]
  },
  {
   "cell_type": "markdown",
   "metadata": {
    "collapsed": true
   },
   "source": [
    "# File in Python"
   ]
  },
  {
   "cell_type": "code",
   "execution_count": 1,
   "metadata": {},
   "outputs": [
    {
     "name": "stdout",
     "output_type": "stream",
     "text": [
      "Writing algorithm_coffe_machine.py\n"
     ]
    }
   ],
   "source": [
    "%%writefile algorithm_coffe_machine.py\n",
    "\n",
    "#import libraries\n",
    "from format_csv import *\n",
    "from analyze_data import *\n",
    "\n",
    "power = pd.read_csv(\"power.csv\")\n",
    "groundtruth = pd.read_csv(\"groudtruth.csv\")\n",
    "sp = get_special_point(power,groundtruth,[10,10],\"coffee\",1000)\n",
    "sp_2 = get_special_point(power,groundtruth,[10,10],\"on\",1000)\n",
    "draw_power_graphics(power,[sp,sp_2],band=2500)\n",
    "#draw_around_event(power,groundtruth,[10,10],\"coffee\")\n",
    "average_energy(power,groundtruth,[7,8],\"coffee\")\n",
    "average_energy(power,groundtruth,[10,10],\"on\")\n",
    "average_energy(power,groundtruth,[-10,20],\"on\")"
   ]
  },
  {
   "cell_type": "code",
   "execution_count": null,
   "metadata": {
    "collapsed": true
   },
   "outputs": [],
   "source": []
  }
 ],
 "metadata": {
  "kernelspec": {
   "display_name": "Python 3",
   "language": "python",
   "name": "python3"
  },
  "language_info": {
   "codemirror_mode": {
    "name": "ipython",
    "version": 3
   },
   "file_extension": ".py",
   "mimetype": "text/x-python",
   "name": "python",
   "nbconvert_exporter": "python",
   "pygments_lexer": "ipython3",
   "version": "3.6.2"
  }
 },
 "nbformat": 4,
 "nbformat_minor": 2
}
